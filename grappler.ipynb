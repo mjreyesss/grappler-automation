{
 "cells": [
  {
   "cell_type": "code",
   "execution_count": null,
   "id": "20072438",
   "metadata": {},
   "outputs": [],
   "source": [
    "# !pip install pyodbc\n",
    "# !pip install pandas\n",
    "# !pip install azure-storage-blob\n",
    "# !pip install pysftp\n",
    "# !pip install paramiko\n",
    "# !pip install python-dotenv\n",
    "# !pip install pytz\n",
    "# !pip install databricks-sql-connector\n",
    "# !pip install azure-keyvault-secrets azure-identity"
   ]
  },
  {
   "cell_type": "code",
   "execution_count": 4,
   "id": "3cbfd81d",
   "metadata": {},
   "outputs": [],
   "source": [
    "import paramiko\n",
    "import os\n",
    "from dotenv import load_dotenv\n",
    "from databricks import sql\n",
    "from azure.storage.blob import BlobServiceClient\n",
    "from azure.keyvault.secrets import SecretClient\n",
    "from azure.identity import DefaultAzureCredential\n",
    "from io import StringIO, BytesIO\n",
    "import pandas as pd\n",
    "from datetime import datetime\n",
    "import logging\n",
    "import pysftp\n",
    "import pytz"
   ]
  },
  {
   "cell_type": "code",
   "execution_count": 16,
   "id": "b58c8533",
   "metadata": {},
   "outputs": [
    {
     "data": {
      "text/plain": [
       "True"
      ]
     },
     "execution_count": 16,
     "metadata": {},
     "output_type": "execute_result"
    }
   ],
   "source": [
    "load_dotenv()"
   ]
  },
  {
   "cell_type": "code",
   "execution_count": 8,
   "id": "4c00e74d",
   "metadata": {},
   "outputs": [],
   "source": [
    "SFTP_HOST = \"deltaintegrationstorage.blob.core.windows.net\"\n",
    "SFTP_USERNAME = \"deltaintegrationstorage.mjuser\"  # storageaccount.username format\n",
    "SSH_PRIVATE_KEY_PATH = r\"C:\\Users\\MarvinJayReyes\\Documents\\DeltaInnovation\\grappler-transfer\\grappler-integration\\mjuser_test\"  # Raw string for Windows paths"
   ]
  },
  {
   "cell_type": "code",
   "execution_count": 9,
   "id": "ebaea0b3",
   "metadata": {},
   "outputs": [],
   "source": [
    "def get_current_date():\n",
    "    nz_tz = pytz.timezone('Pacific/Auckland')\n",
    "    nz_time = datetime.now(nz_tz)\n",
    "    return nz_time.strftime(\"%d-%m-%Y\")"
   ]
  },
  {
   "cell_type": "code",
   "execution_count": 10,
   "id": "0ec9800a",
   "metadata": {},
   "outputs": [],
   "source": [
    "def fetch_data_from_databricks(query, connection):\n",
    "    try:\n",
    "        with connection.cursor() as cursor:\n",
    "            cursor.execute(query)\n",
    "            columns = [desc[0] for desc in cursor.description]\n",
    "            result = cursor.fetchall()\n",
    "        return pd.DataFrame(result, columns=columns)\n",
    "    except Exception as e:\n",
    "        logger.error(f\"Error fetching data from Databricks: {str(e)}\", exc_info=True)\n",
    "        raise"
   ]
  },
  {
   "cell_type": "code",
   "execution_count": null,
   "id": "4b9ff2e5",
   "metadata": {},
   "outputs": [],
   "source": []
  },
  {
   "cell_type": "code",
   "execution_count": 14,
   "id": "bbeb0ac3",
   "metadata": {},
   "outputs": [
    {
     "ename": "AttributeError",
     "evalue": "'function' object has no attribute 'close'",
     "output_type": "error",
     "traceback": [
      "\u001b[1;31m---------------------------------------------------------------------------\u001b[0m",
      "\u001b[1;31mAttributeError\u001b[0m                            Traceback (most recent call last)",
      "Cell \u001b[1;32mIn[14], line 3\u001b[0m\n\u001b[0;32m      2\u001b[0m \u001b[38;5;28;01mtry\u001b[39;00m:\n\u001b[1;32m----> 3\u001b[0m     connection \u001b[38;5;241m=\u001b[39m \u001b[43msql\u001b[49m\u001b[38;5;241;43m.\u001b[39;49m\u001b[43mconnect\u001b[49m\u001b[43m(\u001b[49m\n\u001b[0;32m      4\u001b[0m \u001b[43m    \u001b[49m\u001b[43mserver_hostname\u001b[49m\u001b[38;5;241;43m=\u001b[39;49m\u001b[43mos\u001b[49m\u001b[38;5;241;43m.\u001b[39;49m\u001b[43mgetenv\u001b[49m\u001b[43m(\u001b[49m\u001b[38;5;124;43m'\u001b[39;49m\u001b[38;5;124;43mDATABRICKS_SERVER_HOSTNAME\u001b[39;49m\u001b[38;5;124;43m'\u001b[39;49m\u001b[43m)\u001b[49m\u001b[43m,\u001b[49m\n\u001b[0;32m      5\u001b[0m \u001b[43m    \u001b[49m\u001b[43mhttp_path\u001b[49m\u001b[38;5;241;43m=\u001b[39;49m\u001b[43mos\u001b[49m\u001b[38;5;241;43m.\u001b[39;49m\u001b[43mgetenv\u001b[49m\u001b[43m(\u001b[49m\u001b[38;5;124;43m'\u001b[39;49m\u001b[38;5;124;43mDATABRICKS_HTTP_PATH\u001b[39;49m\u001b[38;5;124;43m'\u001b[39;49m\u001b[43m)\u001b[49m\u001b[43m,\u001b[49m\n\u001b[0;32m      6\u001b[0m \u001b[43m    \u001b[49m\u001b[43maccess_token\u001b[49m\u001b[38;5;241;43m=\u001b[39;49m\u001b[43mos\u001b[49m\u001b[38;5;241;43m.\u001b[39;49m\u001b[43mgetenv\u001b[49m\u001b[43m(\u001b[49m\u001b[38;5;124;43m'\u001b[39;49m\u001b[38;5;124;43mDATABRICKS_TOKEN\u001b[39;49m\u001b[38;5;124;43m'\u001b[39;49m\u001b[43m)\u001b[49m\n\u001b[0;32m      7\u001b[0m \u001b[43m    \u001b[49m\u001b[43m)\u001b[49m\n\u001b[0;32m      8\u001b[0m     df \u001b[38;5;241m=\u001b[39m fetch_data_from_databricks(query, connection)\n",
      "File \u001b[1;32mc:\\Users\\MarvinJayReyes\\AppData\\Local\\Programs\\Python\\Python312\\Lib\\site-packages\\databricks\\sql\\__init__.py:90\u001b[0m, in \u001b[0;36mconnect\u001b[1;34m(server_hostname, http_path, access_token, **kwargs)\u001b[0m\n\u001b[0;32m     88\u001b[0m \u001b[38;5;28;01mfrom\u001b[39;00m \u001b[38;5;21;01m.\u001b[39;00m\u001b[38;5;21;01mclient\u001b[39;00m \u001b[38;5;28;01mimport\u001b[39;00m Connection\n\u001b[1;32m---> 90\u001b[0m \u001b[38;5;28;01mreturn\u001b[39;00m \u001b[43mConnection\u001b[49m\u001b[43m(\u001b[49m\u001b[43mserver_hostname\u001b[49m\u001b[43m,\u001b[49m\u001b[43m \u001b[49m\u001b[43mhttp_path\u001b[49m\u001b[43m,\u001b[49m\u001b[43m \u001b[49m\u001b[43maccess_token\u001b[49m\u001b[43m,\u001b[49m\u001b[43m \u001b[49m\u001b[38;5;241;43m*\u001b[39;49m\u001b[38;5;241;43m*\u001b[39;49m\u001b[43mkwargs\u001b[49m\u001b[43m)\u001b[49m\n",
      "File \u001b[1;32mc:\\Users\\MarvinJayReyes\\AppData\\Local\\Programs\\Python\\Python312\\Lib\\site-packages\\databricks\\sql\\client.py:233\u001b[0m, in \u001b[0;36mConnection.__init__\u001b[1;34m(self, server_hostname, http_path, access_token, http_headers, session_configuration, catalog, schema, _use_arrow_native_complex_types, **kwargs)\u001b[0m\n\u001b[0;32m    231\u001b[0m \u001b[38;5;28mself\u001b[39m\u001b[38;5;241m.\u001b[39mlz4_compression \u001b[38;5;241m=\u001b[39m kwargs\u001b[38;5;241m.\u001b[39mget(\u001b[38;5;124m\"\u001b[39m\u001b[38;5;124menable_query_result_lz4_compression\u001b[39m\u001b[38;5;124m\"\u001b[39m, \u001b[38;5;28;01mTrue\u001b[39;00m)\n\u001b[1;32m--> 233\u001b[0m auth_provider \u001b[38;5;241m=\u001b[39m \u001b[43mget_python_sql_connector_auth_provider\u001b[49m\u001b[43m(\u001b[49m\n\u001b[0;32m    234\u001b[0m \u001b[43m    \u001b[49m\u001b[43mserver_hostname\u001b[49m\u001b[43m,\u001b[49m\u001b[43m \u001b[49m\u001b[38;5;241;43m*\u001b[39;49m\u001b[38;5;241;43m*\u001b[39;49m\u001b[43mkwargs\u001b[49m\n\u001b[0;32m    235\u001b[0m \u001b[43m\u001b[49m\u001b[43m)\u001b[49m\n\u001b[0;32m    237\u001b[0m user_agent_entry \u001b[38;5;241m=\u001b[39m kwargs\u001b[38;5;241m.\u001b[39mget(\u001b[38;5;124m\"\u001b[39m\u001b[38;5;124muser_agent_entry\u001b[39m\u001b[38;5;124m\"\u001b[39m)\n",
      "File \u001b[1;32mc:\\Users\\MarvinJayReyes\\AppData\\Local\\Programs\\Python\\Python312\\Lib\\site-packages\\databricks\\sql\\auth\\auth.py:116\u001b[0m, in \u001b[0;36mget_python_sql_connector_auth_provider\u001b[1;34m(hostname, **kwargs)\u001b[0m\n\u001b[0;32m    110\u001b[0m     \u001b[38;5;28;01mraise\u001b[39;00m \u001b[38;5;167;01mValueError\u001b[39;00m(\n\u001b[0;32m    111\u001b[0m         \u001b[38;5;124m\"\u001b[39m\u001b[38;5;124mUsername/password authentication is no longer supported. \u001b[39m\u001b[38;5;124m\"\u001b[39m\n\u001b[0;32m    112\u001b[0m         \u001b[38;5;124m\"\u001b[39m\u001b[38;5;124mPlease use OAuth or access token instead.\u001b[39m\u001b[38;5;124m\"\u001b[39m\n\u001b[0;32m    113\u001b[0m     )\n\u001b[0;32m    115\u001b[0m cfg \u001b[38;5;241m=\u001b[39m ClientContext(\n\u001b[1;32m--> 116\u001b[0m     hostname\u001b[38;5;241m=\u001b[39m\u001b[43mnormalize_host_name\u001b[49m\u001b[43m(\u001b[49m\u001b[43mhostname\u001b[49m\u001b[43m)\u001b[49m,\n\u001b[0;32m    117\u001b[0m     auth_type\u001b[38;5;241m=\u001b[39mauth_type,\n\u001b[0;32m    118\u001b[0m     access_token\u001b[38;5;241m=\u001b[39mkwargs\u001b[38;5;241m.\u001b[39mget(\u001b[38;5;124m\"\u001b[39m\u001b[38;5;124maccess_token\u001b[39m\u001b[38;5;124m\"\u001b[39m),\n\u001b[0;32m    119\u001b[0m     use_cert_as_auth\u001b[38;5;241m=\u001b[39mkwargs\u001b[38;5;241m.\u001b[39mget(\u001b[38;5;124m\"\u001b[39m\u001b[38;5;124m_use_cert_as_auth\u001b[39m\u001b[38;5;124m\"\u001b[39m),\n\u001b[0;32m    120\u001b[0m     tls_client_cert_file\u001b[38;5;241m=\u001b[39mkwargs\u001b[38;5;241m.\u001b[39mget(\u001b[38;5;124m\"\u001b[39m\u001b[38;5;124m_tls_client_cert_file\u001b[39m\u001b[38;5;124m\"\u001b[39m),\n\u001b[0;32m    121\u001b[0m     oauth_scopes\u001b[38;5;241m=\u001b[39mPYSQL_OAUTH_SCOPES,\n\u001b[0;32m    122\u001b[0m     oauth_client_id\u001b[38;5;241m=\u001b[39mkwargs\u001b[38;5;241m.\u001b[39mget(\u001b[38;5;124m\"\u001b[39m\u001b[38;5;124moauth_client_id\u001b[39m\u001b[38;5;124m\"\u001b[39m) \u001b[38;5;129;01mor\u001b[39;00m client_id,\n\u001b[0;32m    123\u001b[0m     oauth_redirect_port_range\u001b[38;5;241m=\u001b[39m[kwargs[\u001b[38;5;124m\"\u001b[39m\u001b[38;5;124moauth_redirect_port\u001b[39m\u001b[38;5;124m\"\u001b[39m]]\n\u001b[0;32m    124\u001b[0m     \u001b[38;5;28;01mif\u001b[39;00m kwargs\u001b[38;5;241m.\u001b[39mget(\u001b[38;5;124m\"\u001b[39m\u001b[38;5;124moauth_client_id\u001b[39m\u001b[38;5;124m\"\u001b[39m) \u001b[38;5;129;01mand\u001b[39;00m kwargs\u001b[38;5;241m.\u001b[39mget(\u001b[38;5;124m\"\u001b[39m\u001b[38;5;124moauth_redirect_port\u001b[39m\u001b[38;5;124m\"\u001b[39m)\n\u001b[0;32m    125\u001b[0m     \u001b[38;5;28;01melse\u001b[39;00m redirect_port_range,\n\u001b[0;32m    126\u001b[0m     oauth_persistence\u001b[38;5;241m=\u001b[39mkwargs\u001b[38;5;241m.\u001b[39mget(\u001b[38;5;124m\"\u001b[39m\u001b[38;5;124mexperimental_oauth_persistence\u001b[39m\u001b[38;5;124m\"\u001b[39m),\n\u001b[0;32m    127\u001b[0m     credentials_provider\u001b[38;5;241m=\u001b[39mkwargs\u001b[38;5;241m.\u001b[39mget(\u001b[38;5;124m\"\u001b[39m\u001b[38;5;124mcredentials_provider\u001b[39m\u001b[38;5;124m\"\u001b[39m),\n\u001b[0;32m    128\u001b[0m )\n\u001b[0;32m    129\u001b[0m \u001b[38;5;28;01mreturn\u001b[39;00m get_auth_provider(cfg)\n",
      "File \u001b[1;32mc:\\Users\\MarvinJayReyes\\AppData\\Local\\Programs\\Python\\Python312\\Lib\\site-packages\\databricks\\sql\\auth\\auth.py:91\u001b[0m, in \u001b[0;36mnormalize_host_name\u001b[1;34m(hostname)\u001b[0m\n\u001b[0;32m     90\u001b[0m \u001b[38;5;28;01mdef\u001b[39;00m \u001b[38;5;21mnormalize_host_name\u001b[39m(hostname: \u001b[38;5;28mstr\u001b[39m):\n\u001b[1;32m---> 91\u001b[0m     maybe_scheme \u001b[38;5;241m=\u001b[39m \u001b[38;5;124m\"\u001b[39m\u001b[38;5;124mhttps://\u001b[39m\u001b[38;5;124m\"\u001b[39m \u001b[38;5;28;01mif\u001b[39;00m \u001b[38;5;129;01mnot\u001b[39;00m \u001b[43mhostname\u001b[49m\u001b[38;5;241;43m.\u001b[39;49m\u001b[43mstartswith\u001b[49m(\u001b[38;5;124m\"\u001b[39m\u001b[38;5;124mhttps://\u001b[39m\u001b[38;5;124m\"\u001b[39m) \u001b[38;5;28;01melse\u001b[39;00m \u001b[38;5;124m\"\u001b[39m\u001b[38;5;124m\"\u001b[39m\n\u001b[0;32m     92\u001b[0m     maybe_trailing_slash \u001b[38;5;241m=\u001b[39m \u001b[38;5;124m\"\u001b[39m\u001b[38;5;124m/\u001b[39m\u001b[38;5;124m\"\u001b[39m \u001b[38;5;28;01mif\u001b[39;00m \u001b[38;5;129;01mnot\u001b[39;00m hostname\u001b[38;5;241m.\u001b[39mendswith(\u001b[38;5;124m\"\u001b[39m\u001b[38;5;124m/\u001b[39m\u001b[38;5;124m\"\u001b[39m) \u001b[38;5;28;01melse\u001b[39;00m \u001b[38;5;124m\"\u001b[39m\u001b[38;5;124m\"\u001b[39m\n",
      "\u001b[1;31mAttributeError\u001b[0m: 'NoneType' object has no attribute 'startswith'",
      "\nDuring handling of the above exception, another exception occurred:\n",
      "\u001b[1;31mAttributeError\u001b[0m                            Traceback (most recent call last)",
      "Cell \u001b[1;32mIn[14], line 10\u001b[0m\n\u001b[0;32m      8\u001b[0m     df \u001b[38;5;241m=\u001b[39m fetch_data_from_databricks(query, connection)\n\u001b[0;32m      9\u001b[0m \u001b[38;5;28;01mfinally\u001b[39;00m:\n\u001b[1;32m---> 10\u001b[0m     \u001b[43mconnection\u001b[49m\u001b[38;5;241;43m.\u001b[39;49m\u001b[43mclose\u001b[49m()\n",
      "\u001b[1;31mAttributeError\u001b[0m: 'function' object has no attribute 'close'"
     ]
    }
   ],
   "source": [
    "query = f\"\"\"  SELECT * FROM delta_datawarehouse_merger.deltadbprodnz.policy WHERE id = 1 \"\"\"\n",
    "try:\n",
    "    connection = sql.connect(\n",
    "    server_hostname=os.getenv('DATABRICKS_SERVER_HOSTNAME'),\n",
    "    http_path=os.getenv('DATABRICKS_HTTP_PATH'),\n",
    "    access_token=os.getenv('DATABRICKS_TOKEN')\n",
    "    )\n",
    "    df = fetch_data_from_databricks(query, connection)\n",
    "finally:\n",
    "    connection.close()"
   ]
  },
  {
   "cell_type": "code",
   "execution_count": 20,
   "id": "31acd4ab",
   "metadata": {},
   "outputs": [
    {
     "ename": "NameError",
     "evalue": "name 'df' is not defined",
     "output_type": "error",
     "traceback": [
      "\u001b[1;31m---------------------------------------------------------------------------\u001b[0m",
      "\u001b[1;31mNameError\u001b[0m                                 Traceback (most recent call last)",
      "Cell \u001b[1;32mIn[20], line 3\u001b[0m\n\u001b[0;32m      1\u001b[0m current_date \u001b[38;5;241m=\u001b[39m get_current_date()\n\u001b[0;32m      2\u001b[0m blob_name \u001b[38;5;241m=\u001b[39m \u001b[38;5;124mf\u001b[39m\u001b[38;5;124m'\u001b[39m\u001b[38;5;124mgrapplerau_delta_\u001b[39m\u001b[38;5;132;01m{\u001b[39;00mcurrent_date\u001b[38;5;132;01m}\u001b[39;00m\u001b[38;5;124m.csv\u001b[39m\u001b[38;5;124m'\u001b[39m\n\u001b[1;32m----> 3\u001b[0m \u001b[43mdf\u001b[49m[\u001b[38;5;124m'\u001b[39m\u001b[38;5;124mfile_name\u001b[39m\u001b[38;5;124m'\u001b[39m] \u001b[38;5;241m=\u001b[39m blob_name\n\u001b[0;32m      4\u001b[0m df\u001b[38;5;241m.\u001b[39mto_csv(\u001b[38;5;124mf\u001b[39m\u001b[38;5;124m'\u001b[39m\u001b[38;5;124mgrapplerau_delta_\u001b[39m\u001b[38;5;132;01m{\u001b[39;00mcurrent_date\u001b[38;5;132;01m}\u001b[39;00m\u001b[38;5;124m.csv\u001b[39m\u001b[38;5;124m'\u001b[39m, index\u001b[38;5;241m=\u001b[39m\u001b[38;5;28;01mFalse\u001b[39;00m)\n",
      "\u001b[1;31mNameError\u001b[0m: name 'df' is not defined"
     ]
    }
   ],
   "source": [
    "current_date = get_current_date()\n",
    "blob_name = f'grapplerau_delta_{current_date}.csv'\n",
    "df['file_name'] = blob_name\n",
    "df.to_csv(f'grapplerau_delta_{current_date}.csv', index=False)"
   ]
  },
  {
   "cell_type": "code",
   "execution_count": 15,
   "id": "6d75bb4c",
   "metadata": {},
   "outputs": [
    {
     "ename": "AttributeError",
     "evalue": "'str' object has no attribute 'readlines'",
     "output_type": "error",
     "traceback": [
      "\u001b[1;31m---------------------------------------------------------------------------\u001b[0m",
      "\u001b[1;31mAttributeError\u001b[0m                            Traceback (most recent call last)",
      "Cell \u001b[1;32mIn[15], line 5\u001b[0m\n\u001b[0;32m      2\u001b[0m ssh\u001b[38;5;241m.\u001b[39mset_missing_host_key_policy(paramiko\u001b[38;5;241m.\u001b[39mAutoAddPolicy())\n\u001b[0;32m      4\u001b[0m     \u001b[38;5;66;03m# Option 1: Load private key from file\u001b[39;00m\n\u001b[1;32m----> 5\u001b[0m private_key \u001b[38;5;241m=\u001b[39m \u001b[43mparamiko\u001b[49m\u001b[38;5;241;43m.\u001b[39;49m\u001b[43mRSAKey\u001b[49m\u001b[38;5;241;43m.\u001b[39;49m\u001b[43mfrom_private_key\u001b[49m\u001b[43m(\u001b[49m\u001b[43msecret\u001b[49m\u001b[38;5;241;43m.\u001b[39;49m\u001b[43mvalue\u001b[49m\u001b[43m)\u001b[49m\n",
      "File \u001b[1;32mc:\\Users\\MarvinJayReyes\\miniconda3\\Lib\\site-packages\\paramiko\\pkey.py:456\u001b[0m, in \u001b[0;36mPKey.from_private_key\u001b[1;34m(cls, file_obj, password)\u001b[0m\n\u001b[0;32m    438\u001b[0m \u001b[38;5;129m@classmethod\u001b[39m\n\u001b[0;32m    439\u001b[0m \u001b[38;5;28;01mdef\u001b[39;00m \u001b[38;5;21mfrom_private_key\u001b[39m(\u001b[38;5;28mcls\u001b[39m, file_obj, password\u001b[38;5;241m=\u001b[39m\u001b[38;5;28;01mNone\u001b[39;00m):\n\u001b[0;32m    440\u001b[0m \u001b[38;5;250m    \u001b[39m\u001b[38;5;124;03m\"\"\"\u001b[39;00m\n\u001b[0;32m    441\u001b[0m \u001b[38;5;124;03m    Create a key object by reading a private key from a file (or file-like)\u001b[39;00m\n\u001b[0;32m    442\u001b[0m \u001b[38;5;124;03m    object.  If the private key is encrypted and ``password`` is not\u001b[39;00m\n\u001b[1;32m   (...)\u001b[0m\n\u001b[0;32m    454\u001b[0m \u001b[38;5;124;03m    :raises: `.SSHException` -- if the key file is invalid\u001b[39;00m\n\u001b[0;32m    455\u001b[0m \u001b[38;5;124;03m    \"\"\"\u001b[39;00m\n\u001b[1;32m--> 456\u001b[0m     key \u001b[38;5;241m=\u001b[39m \u001b[38;5;28;43mcls\u001b[39;49m\u001b[43m(\u001b[49m\u001b[43mfile_obj\u001b[49m\u001b[38;5;241;43m=\u001b[39;49m\u001b[43mfile_obj\u001b[49m\u001b[43m,\u001b[49m\u001b[43m \u001b[49m\u001b[43mpassword\u001b[49m\u001b[38;5;241;43m=\u001b[39;49m\u001b[43mpassword\u001b[49m\u001b[43m)\u001b[49m\n\u001b[0;32m    457\u001b[0m     \u001b[38;5;28;01mreturn\u001b[39;00m key\n",
      "File \u001b[1;32mc:\\Users\\MarvinJayReyes\\miniconda3\\Lib\\site-packages\\paramiko\\rsakey.py:61\u001b[0m, in \u001b[0;36mRSAKey.__init__\u001b[1;34m(self, msg, data, filename, password, key, file_obj)\u001b[0m\n\u001b[0;32m     59\u001b[0m \u001b[38;5;28mself\u001b[39m\u001b[38;5;241m.\u001b[39mpublic_blob \u001b[38;5;241m=\u001b[39m \u001b[38;5;28;01mNone\u001b[39;00m\n\u001b[0;32m     60\u001b[0m \u001b[38;5;28;01mif\u001b[39;00m file_obj \u001b[38;5;129;01mis\u001b[39;00m \u001b[38;5;129;01mnot\u001b[39;00m \u001b[38;5;28;01mNone\u001b[39;00m:\n\u001b[1;32m---> 61\u001b[0m     \u001b[38;5;28;43mself\u001b[39;49m\u001b[38;5;241;43m.\u001b[39;49m\u001b[43m_from_private_key\u001b[49m\u001b[43m(\u001b[49m\u001b[43mfile_obj\u001b[49m\u001b[43m,\u001b[49m\u001b[43m \u001b[49m\u001b[43mpassword\u001b[49m\u001b[43m)\u001b[49m\n\u001b[0;32m     62\u001b[0m     \u001b[38;5;28;01mreturn\u001b[39;00m\n\u001b[0;32m     63\u001b[0m \u001b[38;5;28;01mif\u001b[39;00m filename \u001b[38;5;129;01mis\u001b[39;00m \u001b[38;5;129;01mnot\u001b[39;00m \u001b[38;5;28;01mNone\u001b[39;00m:\n",
      "File \u001b[1;32mc:\\Users\\MarvinJayReyes\\miniconda3\\Lib\\site-packages\\paramiko\\rsakey.py:200\u001b[0m, in \u001b[0;36mRSAKey._from_private_key\u001b[1;34m(self, file_obj, password)\u001b[0m\n\u001b[0;32m    199\u001b[0m \u001b[38;5;28;01mdef\u001b[39;00m \u001b[38;5;21m_from_private_key\u001b[39m(\u001b[38;5;28mself\u001b[39m, file_obj, password):\n\u001b[1;32m--> 200\u001b[0m     data \u001b[38;5;241m=\u001b[39m \u001b[38;5;28;43mself\u001b[39;49m\u001b[38;5;241;43m.\u001b[39;49m\u001b[43m_read_private_key\u001b[49m\u001b[43m(\u001b[49m\u001b[38;5;124;43m\"\u001b[39;49m\u001b[38;5;124;43mRSA\u001b[39;49m\u001b[38;5;124;43m\"\u001b[39;49m\u001b[43m,\u001b[49m\u001b[43m \u001b[49m\u001b[43mfile_obj\u001b[49m\u001b[43m,\u001b[49m\u001b[43m \u001b[49m\u001b[43mpassword\u001b[49m\u001b[43m)\u001b[49m\n\u001b[0;32m    201\u001b[0m     \u001b[38;5;28mself\u001b[39m\u001b[38;5;241m.\u001b[39m_decode_key(data)\n",
      "File \u001b[1;32mc:\\Users\\MarvinJayReyes\\miniconda3\\Lib\\site-packages\\paramiko\\pkey.py:513\u001b[0m, in \u001b[0;36mPKey._read_private_key\u001b[1;34m(self, tag, f, password)\u001b[0m\n\u001b[0;32m    512\u001b[0m \u001b[38;5;28;01mdef\u001b[39;00m \u001b[38;5;21m_read_private_key\u001b[39m(\u001b[38;5;28mself\u001b[39m, tag, f, password\u001b[38;5;241m=\u001b[39m\u001b[38;5;28;01mNone\u001b[39;00m):\n\u001b[1;32m--> 513\u001b[0m     lines \u001b[38;5;241m=\u001b[39m \u001b[43mf\u001b[49m\u001b[38;5;241;43m.\u001b[39;49m\u001b[43mreadlines\u001b[49m()\n\u001b[0;32m    514\u001b[0m     \u001b[38;5;28;01mif\u001b[39;00m \u001b[38;5;129;01mnot\u001b[39;00m lines:\n\u001b[0;32m    515\u001b[0m         \u001b[38;5;28;01mraise\u001b[39;00m SSHException(\u001b[38;5;124m\"\u001b[39m\u001b[38;5;124mno lines in \u001b[39m\u001b[38;5;132;01m{}\u001b[39;00m\u001b[38;5;124m private key file\u001b[39m\u001b[38;5;124m\"\u001b[39m\u001b[38;5;241m.\u001b[39mformat(tag))\n",
      "\u001b[1;31mAttributeError\u001b[0m: 'str' object has no attribute 'readlines'"
     ]
    }
   ],
   "source": [
    "ssh = paramiko.SSHClient()\n",
    "ssh.set_missing_host_key_policy(paramiko.AutoAddPolicy())\n",
    "    \n",
    "    # Option 1: Load private key from file\n",
    "private_key = paramiko.RSAKey.from_private_key(secret.value)"
   ]
  },
  {
   "cell_type": "code",
   "execution_count": 37,
   "id": "6da5df56",
   "metadata": {},
   "outputs": [],
   "source": [
    "ssh.connect(SFTP_HOST, username=SFTP_USERNAME, pkey=private_key)\n",
    "    \n",
    "sftp = ssh.open_sftp()\n",
    "sftp.put(f'grapplerau_delta_{current_date}.csv', f'grapplerau_delta_{current_date}.csv')\n",
    "sftp.close()\n",
    "ssh.close()\n",
    "\n",
    "# Clean up local file\n",
    "os.remove(f'grapplerau_delta_{current_date}.csv')"
   ]
  },
  {
   "cell_type": "code",
   "execution_count": null,
   "id": "cd4c7a0a",
   "metadata": {},
   "outputs": [],
   "source": []
  }
 ],
 "metadata": {
  "kernelspec": {
   "display_name": "Python 3",
   "language": "python",
   "name": "python3"
  },
  "language_info": {
   "codemirror_mode": {
    "name": "ipython",
    "version": 3
   },
   "file_extension": ".py",
   "mimetype": "text/x-python",
   "name": "python",
   "nbconvert_exporter": "python",
   "pygments_lexer": "ipython3",
   "version": "3.12.3"
  }
 },
 "nbformat": 4,
 "nbformat_minor": 5
}
